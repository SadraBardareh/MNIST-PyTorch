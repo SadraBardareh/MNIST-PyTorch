{
 "cells": [
  {
   "cell_type": "markdown",
   "metadata": {},
   "source": [
    "## Import PyTorch and ..."
   ]
  },
  {
   "cell_type": "code",
   "execution_count": 35,
   "metadata": {},
   "outputs": [],
   "source": [
    "import torch\n",
    "import numpy as np\n",
    "import matplotlib.pyplot as plt\n",
    "%matplotlib inline"
   ]
  },
  {
   "cell_type": "markdown",
   "metadata": {},
   "source": [
    "## Load MNIST dataset"
   ]
  },
  {
   "cell_type": "code",
   "execution_count": 36,
   "metadata": {},
   "outputs": [],
   "source": [
    "from torchvision import datasets, transforms\n",
    "from torch.utils.data import DataLoader\n",
    "\n",
    "transform_set = transforms.Compose([\n",
    "    transforms.ToTensor(), \n",
    "    transforms.Normalize((0.5,), (0.5,)),\n",
    "])\n",
    "\n",
    "trainset = datasets.MNIST('MNIST_data/', download=True, train=True, transform=transform_set)\n",
    "testset = datasets.MNIST('MNIST_data/', download=True, train=False, transform=transform_set)\n",
    "\n",
    "batch_size = 64\n",
    "trainloader = DataLoader(trainset, batch_size=batch_size, shuffle=True)\n",
    "testloader = DataLoader(testset, batch_size=batch_size, shuffle=True)"
   ]
  },
  {
   "cell_type": "markdown",
   "metadata": {},
   "source": [
    "## Defining the Model"
   ]
  },
  {
   "cell_type": "code",
   "execution_count": 37,
   "metadata": {},
   "outputs": [],
   "source": [
    "from torch import nn\n",
    "from torch.nn import functional as F\n",
    "\n",
    "class Network(nn.Module):\n",
    "    def __init__(self):\n",
    "        super().__init__()\n",
    "\n",
    "        self.hidden1 = nn.Linear(784, 128)\n",
    "        self.hidden2 = nn.Linear(128, 64)\n",
    "        self.output = nn.Linear(64, 10)\n",
    "\n",
    "    def forward(self, x):\n",
    "        x = F.relu(self.hidden1(x))\n",
    "        x = F.relu(self.hidden2(x))\n",
    "        x = F.log_softmax(self.output(x), dim=1)\n",
    "\n",
    "        return x"
   ]
  },
  {
   "cell_type": "markdown",
   "metadata": {},
   "source": [
    "## Training the Model and Validation"
   ]
  },
  {
   "cell_type": "code",
   "execution_count": 38,
   "metadata": {},
   "outputs": [],
   "source": [
    "device = torch.device('mps' if torch.backends.mps.is_available() else 'cpu') # Set the device to train model\n",
    "\n",
    "# If you have gpu and you do not have an apple arm64 processor, you should use the line below.\n",
    "# device = torch.device('cuda' if torch.cuda.is_available() else 'cpu')\n",
    "\n",
    "# For these simple datasets like MNIST, we don't need to use gpu, so I commented the parts that send model and data to gpu."
   ]
  },
  {
   "cell_type": "code",
   "execution_count": 40,
   "metadata": {},
   "outputs": [
    {
     "name": "stdout",
     "output_type": "stream",
     "text": [
      "Epoch 1/5..\n",
      "Training loss: 0.3304550051689148..\n",
      "Test loss: 0.001200884347781539..\n",
      "Test accuracy: 0.9414808750152588\n",
      "\n",
      "Epoch 2/5..\n",
      "Training loss: 0.17088116705417633..\n",
      "Test loss: 0.000170154104125686..\n",
      "Test accuracy: 0.9519307613372803\n",
      "\n",
      "Epoch 3/5..\n",
      "Training loss: 0.13949739933013916..\n",
      "Test loss: 0.00026801988133229315..\n",
      "Test accuracy: 0.950238823890686\n",
      "\n",
      "Epoch 4/5..\n",
      "Training loss: 0.12199438363313675..\n",
      "Test loss: 0.0029800916090607643..\n",
      "Test accuracy: 0.9357085824012756\n",
      "\n",
      "Epoch 5/5..\n",
      "Training loss: 0.11426801234483719..\n",
      "Test loss: 0.0005691692349500954..\n",
      "Test accuracy: 0.9609872698783875\n",
      "\n"
     ]
    }
   ],
   "source": [
    "model = Network()\n",
    "# model.to(device)\n",
    "\n",
    "criterion = nn.NLLLoss()\n",
    "optimizer = torch.optim.Adam(model.parameters(), lr=0.003)\n",
    "\n",
    "epochs = 5\n",
    "for e in range(epochs):\n",
    "    running_loss = 0\n",
    "    for images, labels in trainloader:\n",
    "        # images, labels = images.to(device), labels.to(device)\n",
    "        images = images.view(images.shape[0], -1)\n",
    "\n",
    "        optimizer.zero_grad()\n",
    "\n",
    "        logps = model.forward(images)\n",
    "        loss = criterion(logps, labels)\n",
    "        loss.backward()\n",
    "        optimizer.step()\n",
    "\n",
    "        running_loss += loss\n",
    "    else:\n",
    "        test_loss = 0\n",
    "        accuracy = 0\n",
    "        for images, labels in testloader:\n",
    "            # images, labels = images.to(device), labels.to(device)\n",
    "            images = images.view(images.shape[0], -1)\n",
    "\n",
    "            with torch.no_grad():\n",
    "                logps = model.forward(images)\n",
    "                loss = criterion(logps, labels)\n",
    "                ps = torch.exp(logps)\n",
    "                top_p, top_class = ps.topk(1, dim=1)\n",
    "                corrects = top_class == labels.view(*top_class.shape)\n",
    "                accuracy += torch.mean(corrects.type(torch.FloatTensor))\n",
    "\n",
    "        test_loss += loss\n",
    "\n",
    "        print(f'Epoch {e+1}/{epochs}..')\n",
    "        print(f'Training loss: {running_loss/len(trainloader)}..')\n",
    "        print(f'Test loss: {test_loss/len(testloader)}..')\n",
    "        print(f'Test accuracy: {accuracy/len(testloader)}\\n')\n"
   ]
  }
 ],
 "metadata": {
  "kernelspec": {
   "display_name": "pytorch-gpu",
   "language": "python",
   "name": "pytorch-gpu"
  },
  "language_info": {
   "codemirror_mode": {
    "name": "ipython",
    "version": 3
   },
   "file_extension": ".py",
   "mimetype": "text/x-python",
   "name": "python",
   "nbconvert_exporter": "python",
   "pygments_lexer": "ipython3",
   "version": "3.10.12"
  },
  "orig_nbformat": 4
 },
 "nbformat": 4,
 "nbformat_minor": 2
}
